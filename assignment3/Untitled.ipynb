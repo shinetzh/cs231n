{
 "cells": [
  {
   "cell_type": "code",
   "execution_count": 36,
   "metadata": {},
   "outputs": [
    {
     "name": "stdout",
     "output_type": "stream",
     "text": [
      "a [[[ 0  1  2  3]\n",
      "  [ 4  5  6  7]\n",
      "  [ 8  9 10 11]]\n",
      "\n",
      " [[12 13 14 15]\n",
      "  [16 17 18 19]\n",
      "  [20 21 22 23]]]\n",
      "b [[ 0  1  2  3]\n",
      " [ 4  5  6  7]\n",
      " [ 8  9 10 11]\n",
      " [12 13 14 15]\n",
      " [16 17 18 19]\n",
      " [20 21 22 23]]\n",
      "c [[4 2 4 5 1]\n",
      " [2 3 4 3 3]\n",
      " [4 1 3 1 3]\n",
      " [3 0 4 5 5]]\n",
      "(4, 5, 4)\n",
      "e [[[16 17 18 19]\n",
      "  [ 8  9 10 11]\n",
      "  [16 17 18 19]\n",
      "  [20 21 22 23]\n",
      "  [ 4  5  6  7]]\n",
      "\n",
      " [[ 8  9 10 11]\n",
      "  [12 13 14 15]\n",
      "  [16 17 18 19]\n",
      "  [12 13 14 15]\n",
      "  [12 13 14 15]]\n",
      "\n",
      " [[16 17 18 19]\n",
      "  [ 4  5  6  7]\n",
      "  [12 13 14 15]\n",
      "  [ 4  5  6  7]\n",
      "  [12 13 14 15]]\n",
      "\n",
      " [[12 13 14 15]\n",
      "  [ 0  1  2  3]\n",
      "  [16 17 18 19]\n",
      "  [20 21 22 23]\n",
      "  [20 21 22 23]]]\n"
     ]
    }
   ],
   "source": [
    "import numpy as np\n",
    "d = np.zeros((2,4))\n",
    "a = np.arange(24).reshape((2,3,4))\n",
    "b = a.reshape((6,4))\n",
    "\n",
    "print('a',a)\n",
    "print('b',b)\n",
    "c = np.random.randint(0,6,(20)).reshape(4,5)\n",
    "print('c',c)\n",
    "e = b[c,:]\n",
    "print(e.shape)\n",
    "print('e',e)\n",
    "a = np.zeros((3,4,5))"
   ]
  }
 ],
 "metadata": {
  "kernelspec": {
   "display_name": "Python [conda env:tensorflow]",
   "language": "python",
   "name": "conda-env-tensorflow-py"
  },
  "language_info": {
   "codemirror_mode": {
    "name": "ipython",
    "version": 3
   },
   "file_extension": ".py",
   "mimetype": "text/x-python",
   "name": "python",
   "nbconvert_exporter": "python",
   "pygments_lexer": "ipython3",
   "version": "3.5.4"
  }
 },
 "nbformat": 4,
 "nbformat_minor": 2
}
