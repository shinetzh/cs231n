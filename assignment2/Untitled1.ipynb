{
 "cells": [
  {
   "cell_type": "code",
   "execution_count": 33,
   "metadata": {},
   "outputs": [
    {
     "name": "stdout",
     "output_type": "stream",
     "text": [
      "[[[ 0  1  2  3  4]\n",
      "  [ 5  6  7  8  9]\n",
      "  [10 11 12 13 14]\n",
      "  [15 16 17 18 19]]\n",
      "\n",
      " [[20 21 22 23 24]\n",
      "  [25 26 27 28 29]\n",
      "  [30 31 32 33 34]\n",
      "  [35 36 37 38 39]]\n",
      "\n",
      " [[40 41 42 43 44]\n",
      "  [45 46 47 48 49]\n",
      "  [50 51 52 53 54]\n",
      "  [55 56 57 58 59]]]\n",
      "[[ 20.  21.  22.  23.  24.]\n",
      " [ 25.  26.  27.  28.  29.]\n",
      " [ 30.  31.  32.  33.  34.]\n",
      " [ 35.  36.  37.  38.  39.]]\n",
      "[[[-20. -20. -20. -20. -20.]\n",
      "  [-20. -20. -20. -20. -20.]\n",
      "  [-20. -20. -20. -20. -20.]\n",
      "  [-20. -20. -20. -20. -20.]]\n",
      "\n",
      " [[  0.   0.   0.   0.   0.]\n",
      "  [  0.   0.   0.   0.   0.]\n",
      "  [  0.   0.   0.   0.   0.]\n",
      "  [  0.   0.   0.   0.   0.]]\n",
      "\n",
      " [[ 20.  20.  20.  20.  20.]\n",
      "  [ 20.  20.  20.  20.  20.]\n",
      "  [ 20.  20.  20.  20.  20.]\n",
      "  [ 20.  20.  20.  20.  20.]]]\n"
     ]
    }
   ],
   "source": [
    "import numpy as np\n",
    "\n",
    "c = np.arange(60).reshape(3,4,5)\n",
    "print(c)\n",
    "c_mean = np.mean(c,axis = 0)\n",
    "print(c_mean)\n",
    "print(c-c_mean)"
   ]
  }
 ],
 "metadata": {
  "kernelspec": {
   "display_name": "Python 3",
   "language": "python",
   "name": "python3"
  },
  "language_info": {
   "codemirror_mode": {
    "name": "ipython",
    "version": 3
   },
   "file_extension": ".py",
   "mimetype": "text/x-python",
   "name": "python",
   "nbconvert_exporter": "python",
   "pygments_lexer": "ipython3",
   "version": "3.6.1"
  }
 },
 "nbformat": 4,
 "nbformat_minor": 2
}
